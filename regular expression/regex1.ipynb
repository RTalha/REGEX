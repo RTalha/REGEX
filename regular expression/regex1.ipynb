{
 "cells": [
  {
   "cell_type": "code",
   "execution_count": 3,
   "metadata": {},
   "outputs": [],
   "source": [
    "import re"
   ]
  },
  {
   "cell_type": "markdown",
   "metadata": {},
   "source": [
    "i want to find the pattren of person with age i dnt name long string\n",
    "#so this is the way create pattren for that"
   ]
  },
  {
   "cell_type": "code",
   "execution_count": 134,
   "metadata": {},
   "outputs": [],
   "source": [
    "string='''\n",
    "John is 23 Theano is 22\n",
    "Talha is 23 Hadi is 24\n",
    "'''\n",
    "\n",
    "testing='''\n",
    "qIt certainly was the thing I was looking for. \n",
    "It has aesthetic appearance and is very subtle at controlling different channels. \n",
    "The other thing I appreciate about it is its themes the_app and Athe255. \n",
    "'''\n",
    "lll='''\n",
    "$1.99\n",
    "$9\n",
    "'''\n",
    "\n",
    "wildcard=re.findall(r\"(^|\\W)$[0-9]+(\\.[0-9][0-9])?\\b\",lll)\n",
    "\n",
    "ages=re.findall(r\"\\d{1,2}\",string)\n",
    "names=re.findall(r\"[A-Z][a-z]+\",string)\n",
    "\n",
    "\n"
   ]
  },
  {
   "cell_type": "code",
   "execution_count": 135,
   "metadata": {},
   "outputs": [
    {
     "name": "stdout",
     "output_type": "stream",
     "text": [
      "names: ['John', 'Theano', 'Talha', 'Hadi']\n",
      "ages: ['23', '22', '23', '24']\n",
      "names: []\n"
     ]
    }
   ],
   "source": [
    "print(\"names:\",names)\n",
    "print(\"ages:\",ages)\n",
    "print(\"names:\",wildcard)"
   ]
  },
  {
   "cell_type": "code",
   "execution_count": 125,
   "metadata": {},
   "outputs": [],
   "source": [
    "import re\n",
    "\n",
    "text=\"we need to inform him with the latest information\"\n",
    "match= re.findall(r\"\\binform\\b\",text)"
   ]
  },
  {
   "cell_type": "code",
   "execution_count": 28,
   "metadata": {},
   "outputs": [
    {
     "name": "stdout",
     "output_type": "stream",
     "text": [
      "['inform']\n"
     ]
    }
   ],
   "source": [
    "print(match)"
   ]
  },
  {
   "cell_type": "code",
   "execution_count": 30,
   "metadata": {},
   "outputs": [
    {
     "name": "stdout",
     "output_type": "stream",
     "text": [
      "(11, 17)\n",
      "(38, 44)\n"
     ]
    }
   ],
   "source": [
    "import re\n",
    "\n",
    "text=\"we need to inform him with the latest information\"\n",
    "match= re.finditer(r\"inform\",text)\n",
    "for i in match:\n",
    "    location_of_inform=i.span()\n",
    "    print(location_of_inform)\n",
    "    "
   ]
  },
  {
   "cell_type": "code",
   "execution_count": 32,
   "metadata": {},
   "outputs": [
    {
     "name": "stdout",
     "output_type": "stream",
     "text": [
      "['sat', 'hat', 'mat', 'pat']\n"
     ]
    }
   ],
   "source": [
    "import re\n",
    "str=\"sat, hat, mat, pat\"\n",
    "findal=re.findall(r\"[shmp]at\",str)\n",
    "print(findal)"
   ]
  },
  {
   "cell_type": "code",
   "execution_count": 33,
   "metadata": {},
   "outputs": [
    {
     "name": "stdout",
     "output_type": "stream",
     "text": [
      "['Sat', 'hat', 'mat', 'pat']\n"
     ]
    }
   ],
   "source": [
    "import re\n",
    "str=\"Sat, hat, mat, pat\"\n",
    "findal=re.findall(r\"[Sa-z]at\",str)\n",
    "print(findal)"
   ]
  },
  {
   "cell_type": "code",
   "execution_count": 45,
   "metadata": {},
   "outputs": [
    {
     "name": "stdout",
     "output_type": "stream",
     "text": [
      "sat, food, mat, pat\n"
     ]
    }
   ],
   "source": [
    "import re\n",
    "strr=\"sat, hat, mat, pat\"\n",
    "regex=re.compile(\"[h]at\")\n",
    "print(regex.sub(\"food\",strr))"
   ]
  },
  {
   "cell_type": "code",
   "execution_count": 49,
   "metadata": {},
   "outputs": [
    {
     "name": "stdout",
     "output_type": "stream",
     "text": [
      "['1234', '56', '7896']\n"
     ]
    }
   ],
   "source": [
    "import re\n",
    "randstr=\"1234 56 7896\"\n",
    "matc=re.findall(r\"\\d{2,4}\",randstr)\n",
    "print(matc)"
   ]
  },
  {
   "cell_type": "code",
   "execution_count": 51,
   "metadata": {},
   "outputs": [
    {
     "name": "stdout",
     "output_type": "stream",
     "text": [
      "talha\n"
     ]
    }
   ],
   "source": [
    "import re\n",
    "testing=\"talha latif\"\n",
    "print(re.search(r\"tal.a\",testing).group(0))"
   ]
  },
  {
   "cell_type": "code",
   "execution_count": 64,
   "metadata": {},
   "outputs": [
    {
     "name": "stdout",
     "output_type": "stream",
     "text": [
      "this is right word\n"
     ]
    }
   ],
   "source": [
    "import re\n",
    "str=\"agreed\"\n",
    "if re.match(\"^.*[aeiou][a-z^aeiou]*.*eed$\",str):\n",
    "    print(\"this is right word\")"
   ]
  },
  {
   "cell_type": "code",
   "execution_count": null,
   "metadata": {},
   "outputs": [],
   "source": [
    "import re\n",
    "str=\"plastered\"\n",
    "if re.match(\"^.*([])ed$\",str):\n",
    "    print(\"this is right word\")"
   ]
  }
 ],
 "metadata": {
  "kernelspec": {
   "display_name": "Python 3",
   "language": "python",
   "name": "python3"
  },
  "language_info": {
   "codemirror_mode": {
    "name": "ipython",
    "version": 3
   },
   "file_extension": ".py",
   "mimetype": "text/x-python",
   "name": "python",
   "nbconvert_exporter": "python",
   "pygments_lexer": "ipython3",
   "version": "3.6.8"
  }
 },
 "nbformat": 4,
 "nbformat_minor": 2
}
